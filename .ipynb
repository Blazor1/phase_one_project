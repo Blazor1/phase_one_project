{
 "cells": [
  {
   "cell_type": "code",
   "execution_count": 3,
   "id": "999a7351",
   "metadata": {},
   "outputs": [],
   "source": [
    "import pandas as pd\n",
    "import numpy as np\n",
    "import matplotlib.pyplot as plt\n",
    "import seaborn as sns\n"
   ]
  },
  {
   "cell_type": "code",
   "execution_count": 4,
   "id": "1f9073ae",
   "metadata": {},
   "outputs": [],
   "source": [
    "df = pd.read_csv(\"aviation-accident-data-2023-05-16.csv\", low_memory=False)\n"
   ]
  },
  {
   "cell_type": "code",
   "execution_count": 5,
   "id": "eac59474",
   "metadata": {},
   "outputs": [
    {
     "name": "stdout",
     "output_type": "stream",
     "text": [
      "        date             type registration       operator fatalities  \\\n",
      "0  date unk.   Antonov An-12B       T-1206  Indonesian AF        NaN   \n",
      "1  date unk.   Antonov An-12B       T-1204  Indonesian AF        NaN   \n",
      "2  date unk.   Antonov An-12B       T-1201  Indonesian AF        NaN   \n",
      "3  date unk.  Antonov An-12BK          NaN      Soviet AF        NaN   \n",
      "4  date unk.  Antonov An-12BP   CCCP-11815      Soviet AF          0   \n",
      "\n",
      "              location          country cat     year  \n",
      "0                  NaN  Unknown country  U1  unknown  \n",
      "1                  NaN  Unknown country  U1  unknown  \n",
      "2                  NaN  Unknown country  U1  unknown  \n",
      "3  Tiksi Airport (IKS)           Russia  A1  unknown  \n",
      "4  Massawa Airport ...          Eritrea  A1  unknown  \n"
     ]
    }
   ],
   "source": [
    "print(df.head())"
   ]
  },
  {
   "cell_type": "code",
   "execution_count": 6,
   "id": "72377612",
   "metadata": {},
   "outputs": [
    {
     "name": "stdout",
     "output_type": "stream",
     "text": [
      "Shape: (23967, 9)\n"
     ]
    },
    {
     "data": {
      "text/plain": [
       "['date',\n",
       " 'type',\n",
       " 'registration',\n",
       " 'operator',\n",
       " 'fatalities',\n",
       " 'location',\n",
       " 'country',\n",
       " 'cat',\n",
       " 'year']"
      ]
     },
     "execution_count": 6,
     "metadata": {},
     "output_type": "execute_result"
    }
   ],
   "source": [
    "print(\"Shape:\", df.shape)\n",
    "df.columns.tolist()"
   ]
  },
  {
   "cell_type": "code",
   "execution_count": 7,
   "id": "daea828d",
   "metadata": {},
   "outputs": [
    {
     "name": "stdout",
     "output_type": "stream",
     "text": [
      "<class 'pandas.core.frame.DataFrame'>\n",
      "RangeIndex: 23967 entries, 0 to 23966\n",
      "Data columns (total 9 columns):\n",
      " #   Column        Non-Null Count  Dtype \n",
      "---  ------        --------------  ----- \n",
      " 0   date          23967 non-null  object\n",
      " 1   type          23967 non-null  object\n",
      " 2   registration  22419 non-null  object\n",
      " 3   operator      23963 non-null  object\n",
      " 4   fatalities    20029 non-null  object\n",
      " 5   location      23019 non-null  object\n",
      " 6   country       23967 non-null  object\n",
      " 7   cat           23967 non-null  object\n",
      " 8   year          23967 non-null  object\n",
      "dtypes: object(9)\n",
      "memory usage: 1.6+ MB\n"
     ]
    }
   ],
   "source": [
    "df.info()"
   ]
  },
  {
   "cell_type": "code",
   "execution_count": 8,
   "id": "f521e872",
   "metadata": {},
   "outputs": [],
   "source": [
    "df['date'] = pd.to_datetime(df['date'], errors='coerce')\n"
   ]
  },
  {
   "cell_type": "code",
   "execution_count": 9,
   "id": "ef842f61",
   "metadata": {},
   "outputs": [],
   "source": [
    "df['year'] = pd.to_numeric(df['year'], errors='coerce').astype('Int64')\n"
   ]
  },
  {
   "cell_type": "code",
   "execution_count": 10,
   "id": "08e7e845",
   "metadata": {},
   "outputs": [
    {
     "data": {
      "text/html": [
       "<div>\n",
       "<style scoped>\n",
       "    .dataframe tbody tr th:only-of-type {\n",
       "        vertical-align: middle;\n",
       "    }\n",
       "\n",
       "    .dataframe tbody tr th {\n",
       "        vertical-align: top;\n",
       "    }\n",
       "\n",
       "    .dataframe thead th {\n",
       "        text-align: right;\n",
       "    }\n",
       "</style>\n",
       "<table border=\"1\" class=\"dataframe\">\n",
       "  <thead>\n",
       "    <tr style=\"text-align: right;\">\n",
       "      <th></th>\n",
       "      <th>date</th>\n",
       "      <th>type</th>\n",
       "      <th>registration</th>\n",
       "      <th>operator</th>\n",
       "      <th>fatalities</th>\n",
       "      <th>location</th>\n",
       "      <th>country</th>\n",
       "      <th>cat</th>\n",
       "      <th>year</th>\n",
       "    </tr>\n",
       "  </thead>\n",
       "  <tbody>\n",
       "    <tr>\n",
       "      <th>0</th>\n",
       "      <td>NaT</td>\n",
       "      <td>Antonov An-12B</td>\n",
       "      <td>T-1206</td>\n",
       "      <td>Indonesian AF</td>\n",
       "      <td>&lt;NA&gt;</td>\n",
       "      <td>NaN</td>\n",
       "      <td>Unknown country</td>\n",
       "      <td>U1</td>\n",
       "      <td>&lt;NA&gt;</td>\n",
       "    </tr>\n",
       "    <tr>\n",
       "      <th>1</th>\n",
       "      <td>NaT</td>\n",
       "      <td>Antonov An-12B</td>\n",
       "      <td>T-1204</td>\n",
       "      <td>Indonesian AF</td>\n",
       "      <td>&lt;NA&gt;</td>\n",
       "      <td>NaN</td>\n",
       "      <td>Unknown country</td>\n",
       "      <td>U1</td>\n",
       "      <td>&lt;NA&gt;</td>\n",
       "    </tr>\n",
       "    <tr>\n",
       "      <th>2</th>\n",
       "      <td>NaT</td>\n",
       "      <td>Antonov An-12B</td>\n",
       "      <td>T-1201</td>\n",
       "      <td>Indonesian AF</td>\n",
       "      <td>&lt;NA&gt;</td>\n",
       "      <td>NaN</td>\n",
       "      <td>Unknown country</td>\n",
       "      <td>U1</td>\n",
       "      <td>&lt;NA&gt;</td>\n",
       "    </tr>\n",
       "    <tr>\n",
       "      <th>3</th>\n",
       "      <td>NaT</td>\n",
       "      <td>Antonov An-12BK</td>\n",
       "      <td>NaN</td>\n",
       "      <td>Soviet AF</td>\n",
       "      <td>&lt;NA&gt;</td>\n",
       "      <td>Tiksi Airport (IKS)</td>\n",
       "      <td>Russia</td>\n",
       "      <td>A1</td>\n",
       "      <td>&lt;NA&gt;</td>\n",
       "    </tr>\n",
       "    <tr>\n",
       "      <th>4</th>\n",
       "      <td>NaT</td>\n",
       "      <td>Antonov An-12BP</td>\n",
       "      <td>CCCP-11815</td>\n",
       "      <td>Soviet AF</td>\n",
       "      <td>0</td>\n",
       "      <td>Massawa Airport ...</td>\n",
       "      <td>Eritrea</td>\n",
       "      <td>A1</td>\n",
       "      <td>&lt;NA&gt;</td>\n",
       "    </tr>\n",
       "    <tr>\n",
       "      <th>...</th>\n",
       "      <td>...</td>\n",
       "      <td>...</td>\n",
       "      <td>...</td>\n",
       "      <td>...</td>\n",
       "      <td>...</td>\n",
       "      <td>...</td>\n",
       "      <td>...</td>\n",
       "      <td>...</td>\n",
       "      <td>...</td>\n",
       "    </tr>\n",
       "    <tr>\n",
       "      <th>23962</th>\n",
       "      <td>2023-05-11</td>\n",
       "      <td>Hawker 900XP</td>\n",
       "      <td>PK-LRU</td>\n",
       "      <td>Angkasa Super Services</td>\n",
       "      <td>0</td>\n",
       "      <td>Maleo Airport (MOH)</td>\n",
       "      <td>Indonesia</td>\n",
       "      <td>A2</td>\n",
       "      <td>2023</td>\n",
       "    </tr>\n",
       "    <tr>\n",
       "      <th>23963</th>\n",
       "      <td>2023-05-11</td>\n",
       "      <td>Cessna 208B Grand Caravan</td>\n",
       "      <td>PK-NGA</td>\n",
       "      <td>Nasional Global Aviasi</td>\n",
       "      <td>0</td>\n",
       "      <td>Fentheik Airstrip</td>\n",
       "      <td>Indonesia</td>\n",
       "      <td>A2</td>\n",
       "      <td>2023</td>\n",
       "    </tr>\n",
       "    <tr>\n",
       "      <th>23964</th>\n",
       "      <td>2023-05-12</td>\n",
       "      <td>Cessna 208B Grand Caravan</td>\n",
       "      <td>5X-RBR</td>\n",
       "      <td>Bar Aviation</td>\n",
       "      <td>0</td>\n",
       "      <td>Kampala-Kajjansi...</td>\n",
       "      <td>Uganda</td>\n",
       "      <td>A1</td>\n",
       "      <td>2023</td>\n",
       "    </tr>\n",
       "    <tr>\n",
       "      <th>23965</th>\n",
       "      <td>2023-05-14</td>\n",
       "      <td>Boeing 747-4R7F</td>\n",
       "      <td>LX-OCV</td>\n",
       "      <td>Cargolux</td>\n",
       "      <td>0</td>\n",
       "      <td>Luxembourg-Finde...</td>\n",
       "      <td>Luxembourg</td>\n",
       "      <td>A2</td>\n",
       "      <td>2023</td>\n",
       "    </tr>\n",
       "    <tr>\n",
       "      <th>23966</th>\n",
       "      <td>2023-05-15</td>\n",
       "      <td>Learjet 35A</td>\n",
       "      <td>D-CGFQ</td>\n",
       "      <td>GFD</td>\n",
       "      <td>2</td>\n",
       "      <td>Hohn Air Base</td>\n",
       "      <td>Germany</td>\n",
       "      <td>A1</td>\n",
       "      <td>2023</td>\n",
       "    </tr>\n",
       "  </tbody>\n",
       "</table>\n",
       "<p>23967 rows × 9 columns</p>\n",
       "</div>"
      ],
      "text/plain": [
       "            date                       type registration  \\\n",
       "0            NaT             Antonov An-12B       T-1206   \n",
       "1            NaT             Antonov An-12B       T-1204   \n",
       "2            NaT             Antonov An-12B       T-1201   \n",
       "3            NaT            Antonov An-12BK          NaN   \n",
       "4            NaT            Antonov An-12BP   CCCP-11815   \n",
       "...          ...                        ...          ...   \n",
       "23962 2023-05-11               Hawker 900XP       PK-LRU   \n",
       "23963 2023-05-11  Cessna 208B Grand Caravan       PK-NGA   \n",
       "23964 2023-05-12  Cessna 208B Grand Caravan       5X-RBR   \n",
       "23965 2023-05-14            Boeing 747-4R7F       LX-OCV   \n",
       "23966 2023-05-15                Learjet 35A       D-CGFQ   \n",
       "\n",
       "                     operator  fatalities             location  \\\n",
       "0               Indonesian AF        <NA>                  NaN   \n",
       "1               Indonesian AF        <NA>                  NaN   \n",
       "2               Indonesian AF        <NA>                  NaN   \n",
       "3                   Soviet AF        <NA>  Tiksi Airport (IKS)   \n",
       "4                   Soviet AF           0  Massawa Airport ...   \n",
       "...                       ...         ...                  ...   \n",
       "23962  Angkasa Super Services           0  Maleo Airport (MOH)   \n",
       "23963  Nasional Global Aviasi           0    Fentheik Airstrip   \n",
       "23964            Bar Aviation           0  Kampala-Kajjansi...   \n",
       "23965                Cargolux           0  Luxembourg-Finde...   \n",
       "23966                     GFD           2        Hohn Air Base   \n",
       "\n",
       "               country cat  year  \n",
       "0      Unknown country  U1  <NA>  \n",
       "1      Unknown country  U1  <NA>  \n",
       "2      Unknown country  U1  <NA>  \n",
       "3               Russia  A1  <NA>  \n",
       "4              Eritrea  A1  <NA>  \n",
       "...                ...  ..   ...  \n",
       "23962        Indonesia  A2  2023  \n",
       "23963        Indonesia  A2  2023  \n",
       "23964           Uganda  A1  2023  \n",
       "23965       Luxembourg  A2  2023  \n",
       "23966          Germany  A1  2023  \n",
       "\n",
       "[23967 rows x 9 columns]"
      ]
     },
     "execution_count": 10,
     "metadata": {},
     "output_type": "execute_result"
    }
   ],
   "source": [
    "df['fatalities'] = pd.to_numeric(df['fatalities'], errors='coerce').astype('Int64')\n",
    "df\n"
   ]
  },
  {
   "cell_type": "code",
   "execution_count": 11,
   "id": "df6a1603",
   "metadata": {},
   "outputs": [
    {
     "name": "stdout",
     "output_type": "stream",
     "text": [
      "<class 'pandas.core.frame.DataFrame'>\n",
      "RangeIndex: 23967 entries, 0 to 23966\n",
      "Data columns (total 9 columns):\n",
      " #   Column        Non-Null Count  Dtype         \n",
      "---  ------        --------------  -----         \n",
      " 0   date          23408 non-null  datetime64[ns]\n",
      " 1   type          23967 non-null  object        \n",
      " 2   registration  22419 non-null  object        \n",
      " 3   operator      23963 non-null  object        \n",
      " 4   fatalities    19676 non-null  Int64         \n",
      " 5   location      23019 non-null  object        \n",
      " 6   country       23967 non-null  object        \n",
      " 7   cat           23967 non-null  object        \n",
      " 8   year          23906 non-null  Int64         \n",
      "dtypes: Int64(2), datetime64[ns](1), object(6)\n",
      "memory usage: 1.7+ MB\n"
     ]
    }
   ],
   "source": [
    "df.info()"
   ]
  },
  {
   "cell_type": "code",
   "execution_count": 12,
   "id": "d6de15c2",
   "metadata": {},
   "outputs": [
    {
     "data": {
      "text/plain": [
       "date             559\n",
       "type               0\n",
       "registration    1548\n",
       "operator           4\n",
       "fatalities      4291\n",
       "location         948\n",
       "country            0\n",
       "cat                0\n",
       "year              61\n",
       "dtype: int64"
      ]
     },
     "execution_count": 12,
     "metadata": {},
     "output_type": "execute_result"
    }
   ],
   "source": [
    "df.isnull().sum()\n"
   ]
  },
  {
   "cell_type": "code",
   "execution_count": 13,
   "id": "81fd4927",
   "metadata": {},
   "outputs": [],
   "source": [
    "df = df.dropna(subset=['date'])\n"
   ]
  },
  {
   "cell_type": "code",
   "execution_count": 14,
   "id": "e6220b5c",
   "metadata": {},
   "outputs": [
    {
     "name": "stderr",
     "output_type": "stream",
     "text": [
      "c:\\Users\\viona\\anaconda3\\envs\\learn-env\\lib\\site-packages\\pandas\\core\\series.py:4517: SettingWithCopyWarning: \n",
      "A value is trying to be set on a copy of a slice from a DataFrame\n",
      "\n",
      "See the caveats in the documentation: https://pandas.pydata.org/pandas-docs/stable/user_guide/indexing.html#returning-a-view-versus-a-copy\n",
      "  return super().fillna(\n"
     ]
    }
   ],
   "source": [
    "df['registration'].fillna('Unknown', inplace=True)\n"
   ]
  },
  {
   "cell_type": "code",
   "execution_count": 15,
   "id": "4027a783",
   "metadata": {},
   "outputs": [],
   "source": [
    "df['operator'].fillna('Unknown', inplace=True)\n"
   ]
  },
  {
   "cell_type": "code",
   "execution_count": 16,
   "id": "5f0adcea",
   "metadata": {},
   "outputs": [
    {
     "name": "stderr",
     "output_type": "stream",
     "text": [
      "<ipython-input-16-8cdc300fe4f1>:2: SettingWithCopyWarning: \n",
      "A value is trying to be set on a copy of a slice from a DataFrame.\n",
      "Try using .loc[row_indexer,col_indexer] = value instead\n",
      "\n",
      "See the caveats in the documentation: https://pandas.pydata.org/pandas-docs/stable/user_guide/indexing.html#returning-a-view-versus-a-copy\n",
      "  df['fatalities_missing'] = df['fatalities'].isnull()\n",
      "<ipython-input-16-8cdc300fe4f1>:3: SettingWithCopyWarning: \n",
      "A value is trying to be set on a copy of a slice from a DataFrame.\n",
      "Try using .loc[row_indexer,col_indexer] = value instead\n",
      "\n",
      "See the caveats in the documentation: https://pandas.pydata.org/pandas-docs/stable/user_guide/indexing.html#returning-a-view-versus-a-copy\n",
      "  df['fatalities'] = df['fatalities'].fillna(-1)\n"
     ]
    },
    {
     "data": {
      "text/html": [
       "<div>\n",
       "<style scoped>\n",
       "    .dataframe tbody tr th:only-of-type {\n",
       "        vertical-align: middle;\n",
       "    }\n",
       "\n",
       "    .dataframe tbody tr th {\n",
       "        vertical-align: top;\n",
       "    }\n",
       "\n",
       "    .dataframe thead th {\n",
       "        text-align: right;\n",
       "    }\n",
       "</style>\n",
       "<table border=\"1\" class=\"dataframe\">\n",
       "  <thead>\n",
       "    <tr style=\"text-align: right;\">\n",
       "      <th></th>\n",
       "      <th>date</th>\n",
       "      <th>type</th>\n",
       "      <th>registration</th>\n",
       "      <th>operator</th>\n",
       "      <th>fatalities</th>\n",
       "      <th>location</th>\n",
       "      <th>country</th>\n",
       "      <th>cat</th>\n",
       "      <th>year</th>\n",
       "      <th>fatalities_missing</th>\n",
       "    </tr>\n",
       "  </thead>\n",
       "  <tbody>\n",
       "    <tr>\n",
       "      <th>61</th>\n",
       "      <td>1919-08-02</td>\n",
       "      <td>Caproni Ca.48</td>\n",
       "      <td>Unknown</td>\n",
       "      <td>Caproni</td>\n",
       "      <td>14</td>\n",
       "      <td>Verona</td>\n",
       "      <td>Italy</td>\n",
       "      <td>A1</td>\n",
       "      <td>1919</td>\n",
       "      <td>False</td>\n",
       "    </tr>\n",
       "    <tr>\n",
       "      <th>62</th>\n",
       "      <td>1919-08-11</td>\n",
       "      <td>Felixstowe Fury</td>\n",
       "      <td>N123</td>\n",
       "      <td>RAF</td>\n",
       "      <td>1</td>\n",
       "      <td>near Felixtowe RNAS</td>\n",
       "      <td>U.K.</td>\n",
       "      <td>A1</td>\n",
       "      <td>1919</td>\n",
       "      <td>False</td>\n",
       "    </tr>\n",
       "    <tr>\n",
       "      <th>63</th>\n",
       "      <td>1920-02-23</td>\n",
       "      <td>Handley Page O/7</td>\n",
       "      <td>G-EANV</td>\n",
       "      <td>Handley Page Transport</td>\n",
       "      <td>0</td>\n",
       "      <td>Acadia Siding, C...</td>\n",
       "      <td>South Africa</td>\n",
       "      <td>A1</td>\n",
       "      <td>1920</td>\n",
       "      <td>False</td>\n",
       "    </tr>\n",
       "    <tr>\n",
       "      <th>64</th>\n",
       "      <td>1920-02-25</td>\n",
       "      <td>Handley Page O/400</td>\n",
       "      <td>G-EAMC</td>\n",
       "      <td>Handley Page Transport</td>\n",
       "      <td>0</td>\n",
       "      <td>near El Shereik</td>\n",
       "      <td>Sudan</td>\n",
       "      <td>A1</td>\n",
       "      <td>1920</td>\n",
       "      <td>False</td>\n",
       "    </tr>\n",
       "    <tr>\n",
       "      <th>65</th>\n",
       "      <td>1920-06-30</td>\n",
       "      <td>Handley Page O/400</td>\n",
       "      <td>G-EAKE</td>\n",
       "      <td>Handley Page Transport</td>\n",
       "      <td>0</td>\n",
       "      <td>ÃstanÃ¥</td>\n",
       "      <td>Sweden</td>\n",
       "      <td>A1</td>\n",
       "      <td>1920</td>\n",
       "      <td>False</td>\n",
       "    </tr>\n",
       "    <tr>\n",
       "      <th>...</th>\n",
       "      <td>...</td>\n",
       "      <td>...</td>\n",
       "      <td>...</td>\n",
       "      <td>...</td>\n",
       "      <td>...</td>\n",
       "      <td>...</td>\n",
       "      <td>...</td>\n",
       "      <td>...</td>\n",
       "      <td>...</td>\n",
       "      <td>...</td>\n",
       "    </tr>\n",
       "    <tr>\n",
       "      <th>23962</th>\n",
       "      <td>2023-05-11</td>\n",
       "      <td>Hawker 900XP</td>\n",
       "      <td>PK-LRU</td>\n",
       "      <td>Angkasa Super Services</td>\n",
       "      <td>0</td>\n",
       "      <td>Maleo Airport (MOH)</td>\n",
       "      <td>Indonesia</td>\n",
       "      <td>A2</td>\n",
       "      <td>2023</td>\n",
       "      <td>False</td>\n",
       "    </tr>\n",
       "    <tr>\n",
       "      <th>23963</th>\n",
       "      <td>2023-05-11</td>\n",
       "      <td>Cessna 208B Grand Caravan</td>\n",
       "      <td>PK-NGA</td>\n",
       "      <td>Nasional Global Aviasi</td>\n",
       "      <td>0</td>\n",
       "      <td>Fentheik Airstrip</td>\n",
       "      <td>Indonesia</td>\n",
       "      <td>A2</td>\n",
       "      <td>2023</td>\n",
       "      <td>False</td>\n",
       "    </tr>\n",
       "    <tr>\n",
       "      <th>23964</th>\n",
       "      <td>2023-05-12</td>\n",
       "      <td>Cessna 208B Grand Caravan</td>\n",
       "      <td>5X-RBR</td>\n",
       "      <td>Bar Aviation</td>\n",
       "      <td>0</td>\n",
       "      <td>Kampala-Kajjansi...</td>\n",
       "      <td>Uganda</td>\n",
       "      <td>A1</td>\n",
       "      <td>2023</td>\n",
       "      <td>False</td>\n",
       "    </tr>\n",
       "    <tr>\n",
       "      <th>23965</th>\n",
       "      <td>2023-05-14</td>\n",
       "      <td>Boeing 747-4R7F</td>\n",
       "      <td>LX-OCV</td>\n",
       "      <td>Cargolux</td>\n",
       "      <td>0</td>\n",
       "      <td>Luxembourg-Finde...</td>\n",
       "      <td>Luxembourg</td>\n",
       "      <td>A2</td>\n",
       "      <td>2023</td>\n",
       "      <td>False</td>\n",
       "    </tr>\n",
       "    <tr>\n",
       "      <th>23966</th>\n",
       "      <td>2023-05-15</td>\n",
       "      <td>Learjet 35A</td>\n",
       "      <td>D-CGFQ</td>\n",
       "      <td>GFD</td>\n",
       "      <td>2</td>\n",
       "      <td>Hohn Air Base</td>\n",
       "      <td>Germany</td>\n",
       "      <td>A1</td>\n",
       "      <td>2023</td>\n",
       "      <td>False</td>\n",
       "    </tr>\n",
       "  </tbody>\n",
       "</table>\n",
       "<p>23408 rows × 10 columns</p>\n",
       "</div>"
      ],
      "text/plain": [
       "            date                       type registration  \\\n",
       "61    1919-08-02              Caproni Ca.48      Unknown   \n",
       "62    1919-08-11            Felixstowe Fury         N123   \n",
       "63    1920-02-23           Handley Page O/7       G-EANV   \n",
       "64    1920-02-25         Handley Page O/400       G-EAMC   \n",
       "65    1920-06-30         Handley Page O/400       G-EAKE   \n",
       "...          ...                        ...          ...   \n",
       "23962 2023-05-11               Hawker 900XP       PK-LRU   \n",
       "23963 2023-05-11  Cessna 208B Grand Caravan       PK-NGA   \n",
       "23964 2023-05-12  Cessna 208B Grand Caravan       5X-RBR   \n",
       "23965 2023-05-14            Boeing 747-4R7F       LX-OCV   \n",
       "23966 2023-05-15                Learjet 35A       D-CGFQ   \n",
       "\n",
       "                     operator  fatalities             location       country  \\\n",
       "61                    Caproni          14               Verona         Italy   \n",
       "62                        RAF           1  near Felixtowe RNAS          U.K.   \n",
       "63     Handley Page Transport           0  Acadia Siding, C...  South Africa   \n",
       "64     Handley Page Transport           0      near El Shereik         Sudan   \n",
       "65     Handley Page Transport           0             ÃstanÃ¥        Sweden   \n",
       "...                       ...         ...                  ...           ...   \n",
       "23962  Angkasa Super Services           0  Maleo Airport (MOH)     Indonesia   \n",
       "23963  Nasional Global Aviasi           0    Fentheik Airstrip     Indonesia   \n",
       "23964            Bar Aviation           0  Kampala-Kajjansi...        Uganda   \n",
       "23965                Cargolux           0  Luxembourg-Finde...    Luxembourg   \n",
       "23966                     GFD           2        Hohn Air Base       Germany   \n",
       "\n",
       "      cat  year  fatalities_missing  \n",
       "61     A1  1919               False  \n",
       "62     A1  1919               False  \n",
       "63     A1  1920               False  \n",
       "64     A1  1920               False  \n",
       "65     A1  1920               False  \n",
       "...    ..   ...                 ...  \n",
       "23962  A2  2023               False  \n",
       "23963  A2  2023               False  \n",
       "23964  A1  2023               False  \n",
       "23965  A2  2023               False  \n",
       "23966  A1  2023               False  \n",
       "\n",
       "[23408 rows x 10 columns]"
      ]
     },
     "execution_count": 16,
     "metadata": {},
     "output_type": "execute_result"
    }
   ],
   "source": [
    "# Replace NaN fatalities with -1 to indicate \"unknown\"\n",
    "df['fatalities_missing'] = df['fatalities'].isnull()\n",
    "df['fatalities'] = df['fatalities'].fillna(-1)\n",
    "df"
   ]
  },
  {
   "cell_type": "code",
   "execution_count": 17,
   "id": "fa747b20",
   "metadata": {},
   "outputs": [
    {
     "name": "stderr",
     "output_type": "stream",
     "text": [
      "c:\\Users\\viona\\anaconda3\\envs\\learn-env\\lib\\site-packages\\pandas\\core\\series.py:4517: SettingWithCopyWarning: \n",
      "A value is trying to be set on a copy of a slice from a DataFrame\n",
      "\n",
      "See the caveats in the documentation: https://pandas.pydata.org/pandas-docs/stable/user_guide/indexing.html#returning-a-view-versus-a-copy\n",
      "  return super().fillna(\n"
     ]
    }
   ],
   "source": [
    "df['location'].fillna('Unknown', inplace=True)\n"
   ]
  },
  {
   "cell_type": "code",
   "execution_count": 18,
   "id": "7ca81f6f",
   "metadata": {},
   "outputs": [
    {
     "name": "stderr",
     "output_type": "stream",
     "text": [
      "<ipython-input-18-66ff39ed6772>:1: SettingWithCopyWarning: \n",
      "A value is trying to be set on a copy of a slice from a DataFrame.\n",
      "Try using .loc[row_indexer,col_indexer] = value instead\n",
      "\n",
      "See the caveats in the documentation: https://pandas.pydata.org/pandas-docs/stable/user_guide/indexing.html#returning-a-view-versus-a-copy\n",
      "  df['year'] = df['year'].fillna(df['date'].dt.year)\n"
     ]
    }
   ],
   "source": [
    "df['year'] = df['year'].fillna(df['date'].dt.year)\n"
   ]
  },
  {
   "cell_type": "code",
   "execution_count": 19,
   "id": "c6907f8b",
   "metadata": {},
   "outputs": [
    {
     "data": {
      "text/plain": [
       "date                  0\n",
       "type                  0\n",
       "registration          0\n",
       "operator              0\n",
       "fatalities            0\n",
       "location              0\n",
       "country               0\n",
       "cat                   0\n",
       "year                  0\n",
       "fatalities_missing    0\n",
       "dtype: int64"
      ]
     },
     "execution_count": 19,
     "metadata": {},
     "output_type": "execute_result"
    }
   ],
   "source": [
    "df.isnull().sum()\n"
   ]
  },
  {
   "cell_type": "code",
   "execution_count": 20,
   "id": "f2abb441",
   "metadata": {},
   "outputs": [],
   "source": [
    "df.duplicated().sum()   \n",
    "df = df.drop_duplicates()\n"
   ]
  },
  {
   "cell_type": "code",
   "execution_count": 21,
   "id": "9d2aa0a6",
   "metadata": {},
   "outputs": [
    {
     "name": "stdout",
     "output_type": "stream",
     "text": [
      "         date                     type registration  \\\n",
      "61 1919-08-02            Caproni Ca.48      Unknown   \n",
      "62 1919-08-11          Felixstowe Fury         N123   \n",
      "63 1920-02-23         Handley Page O/7       G-EANV   \n",
      "64 1920-02-25       Handley Page O/400       G-EAMC   \n",
      "65 1920-06-30       Handley Page O/400       G-EAKE   \n",
      "66 1920-12-14       Handley Page O/400       G-EAMA   \n",
      "67 1921-01-15            Aeromarine 75      Unknown   \n",
      "68 1921-03-02         Handley Page O/7       G-IAAC   \n",
      "69 1921-03-04  Caproni Ca.60 Noviplano      Unknown   \n",
      "70 1921-08-26      Farman F.60 Goliath       O-BLAN   \n",
      "\n",
      "                     operator  fatalities                  location  \\\n",
      "61                    Caproni          14                    Verona   \n",
      "62                        RAF           1       near Felixtowe RNAS   \n",
      "63     Handley Page Transport           0       Acadia Siding, C...   \n",
      "64     Handley Page Transport           0           near El Shereik   \n",
      "65     Handley Page Transport           0                  ÃstanÃ¥   \n",
      "66     Handley Page Transport           4             Golders Green   \n",
      "67         Aeromarine Airways           0            Havana harbour   \n",
      "68  HP Indo-Burmese Transport           0                    Meerut   \n",
      "69                    Caproni           0             Lago Maggiore   \n",
      "70                      SNETA           2  near Calais [The Engl...   \n",
      "\n",
      "         country cat  year  fatalities_missing  \n",
      "61         Italy  A1  1919               False  \n",
      "62          U.K.  A1  1919               False  \n",
      "63  South Africa  A1  1920               False  \n",
      "64         Sudan  A1  1920               False  \n",
      "65        Sweden  A1  1920               False  \n",
      "66          U.K.  A1  1920               False  \n",
      "67          Cuba  O1  1921               False  \n",
      "68         India  O1  1921               False  \n",
      "69         Italy  A1  1921               False  \n",
      "70        France  A1  1921               False  \n"
     ]
    }
   ],
   "source": [
    "print(df.head(10))\n"
   ]
  },
  {
   "cell_type": "code",
   "execution_count": 22,
   "id": "96a2fd31",
   "metadata": {},
   "outputs": [
    {
     "name": "stderr",
     "output_type": "stream",
     "text": [
      "<ipython-input-22-1976a1aef35c>:1: SettingWithCopyWarning: \n",
      "A value is trying to be set on a copy of a slice from a DataFrame.\n",
      "Try using .loc[row_indexer,col_indexer] = value instead\n",
      "\n",
      "See the caveats in the documentation: https://pandas.pydata.org/pandas-docs/stable/user_guide/indexing.html#returning-a-view-versus-a-copy\n",
      "  df['location'] = df['location'].str.encode('latin1', errors='ignore').str.decode('utf-8', errors='ignore')\n"
     ]
    }
   ],
   "source": [
    "df['location'] = df['location'].str.encode('latin1', errors='ignore').str.decode('utf-8', errors='ignore')\n"
   ]
  },
  {
   "cell_type": "code",
   "execution_count": 23,
   "id": "a9a063ec",
   "metadata": {},
   "outputs": [
    {
     "name": "stderr",
     "output_type": "stream",
     "text": [
      "<ipython-input-23-cceba7fb344c>:3: SettingWithCopyWarning: \n",
      "A value is trying to be set on a copy of a slice from a DataFrame.\n",
      "Try using .loc[row_indexer,col_indexer] = value instead\n",
      "\n",
      "See the caveats in the documentation: https://pandas.pydata.org/pandas-docs/stable/user_guide/indexing.html#returning-a-view-versus-a-copy\n",
      "  df[col] = df[col].str.encode('latin1', errors='ignore').str.decode('utf-8', errors='ignore')\n"
     ]
    }
   ],
   "source": [
    "text_columns = ['location', 'operator', 'country']  # adjust if needed\n",
    "for col in text_columns:\n",
    "    df[col] = df[col].str.encode('latin1', errors='ignore').str.decode('utf-8', errors='ignore')\n"
   ]
  },
  {
   "cell_type": "code",
   "execution_count": 24,
   "id": "7a76a838",
   "metadata": {},
   "outputs": [
    {
     "name": "stderr",
     "output_type": "stream",
     "text": [
      "<ipython-input-24-f421a700792d>:1: SettingWithCopyWarning: \n",
      "A value is trying to be set on a copy of a slice from a DataFrame.\n",
      "Try using .loc[row_indexer,col_indexer] = value instead\n",
      "\n",
      "See the caveats in the documentation: https://pandas.pydata.org/pandas-docs/stable/user_guide/indexing.html#returning-a-view-versus-a-copy\n",
      "  df['country'] = df['country'].str.strip().str.title()\n",
      "<ipython-input-24-f421a700792d>:2: SettingWithCopyWarning: \n",
      "A value is trying to be set on a copy of a slice from a DataFrame.\n",
      "Try using .loc[row_indexer,col_indexer] = value instead\n",
      "\n",
      "See the caveats in the documentation: https://pandas.pydata.org/pandas-docs/stable/user_guide/indexing.html#returning-a-view-versus-a-copy\n",
      "  df['operator'] = df['operator'].str.strip()\n"
     ]
    }
   ],
   "source": [
    "df['country'] = df['country'].str.strip().str.title()\n",
    "df['operator'] = df['operator'].str.strip()\n"
   ]
  },
  {
   "cell_type": "code",
   "execution_count": 25,
   "id": "fb589c27",
   "metadata": {},
   "outputs": [
    {
     "name": "stderr",
     "output_type": "stream",
     "text": [
      "<ipython-input-25-30a2e64ad582>:1: SettingWithCopyWarning: \n",
      "A value is trying to be set on a copy of a slice from a DataFrame.\n",
      "Try using .loc[row_indexer,col_indexer] = value instead\n",
      "\n",
      "See the caveats in the documentation: https://pandas.pydata.org/pandas-docs/stable/user_guide/indexing.html#returning-a-view-versus-a-copy\n",
      "  df['fatalities'] = pd.to_numeric(df['fatalities'], errors='coerce')\n"
     ]
    }
   ],
   "source": [
    "df['fatalities'] = pd.to_numeric(df['fatalities'], errors='coerce')\n"
   ]
  },
  {
   "cell_type": "code",
   "execution_count": 26,
   "id": "3dfa676e",
   "metadata": {},
   "outputs": [
    {
     "name": "stdout",
     "output_type": "stream",
     "text": [
      "Index(['fatalities', 'year'], dtype='object')\n"
     ]
    }
   ],
   "source": [
    "#finding outliers which mostly apperas in numerical columns\n",
    "numeric_cols = df.select_dtypes(include=['int64','float64']).columns\n",
    "print(numeric_cols)\n"
   ]
  },
  {
   "cell_type": "code",
   "execution_count": 27,
   "id": "5a0635e1",
   "metadata": {},
   "outputs": [
    {
     "name": "stdout",
     "output_type": "stream",
     "text": [
      "Column: fatalities\n",
      "Outliers found: 2618\n",
      "     fatalities\n",
      "61           14\n",
      "75           14\n",
      "112          14\n",
      "135          16\n",
      "155          12 \n",
      "\n",
      "Column: year\n",
      "Outliers found: 0\n",
      "Empty DataFrame\n",
      "Columns: [year]\n",
      "Index: [] \n",
      "\n"
     ]
    }
   ],
   "source": [
    "#detecting outliers per column by using IQR Method\n",
    "for col in numeric_cols:\n",
    "    Q1 = df[col].quantile(0.25)\n",
    "    Q3 = df[col].quantile(0.75)\n",
    "    IQR = Q3 - Q1\n",
    "\n",
    "    lower = Q1 - 1.5 * IQR\n",
    "    upper = Q3 + 1.5 * IQR\n",
    "\n",
    "    outliers = df[(df[col] < lower) | (df[col] > upper)]\n",
    "    \n",
    "    print(f\"Column: {col}\")\n",
    "    print(f\"Outliers found: {outliers.shape[0]}\")\n",
    "    print(outliers[[col]].head(), \"\\n\")\n"
   ]
  },
  {
   "cell_type": "code",
   "execution_count": 28,
   "id": "ed389d4e",
   "metadata": {},
   "outputs": [
    {
     "name": "stderr",
     "output_type": "stream",
     "text": [
      "<ipython-input-28-36a7eaf7b7ab>:4: SettingWithCopyWarning: \n",
      "A value is trying to be set on a copy of a slice from a DataFrame.\n",
      "Try using .loc[row_indexer,col_indexer] = value instead\n",
      "\n",
      "See the caveats in the documentation: https://pandas.pydata.org/pandas-docs/stable/user_guide/indexing.html#returning-a-view-versus-a-copy\n",
      "  df['fatalities'] = df['fatalities'].replace(-1, np.nan)\n"
     ]
    }
   ],
   "source": [
    "#handlind outliers column by column\n",
    "#for fatalities\n",
    "import numpy as np\n",
    "df['fatalities'] = df['fatalities'].replace(-1, np.nan)\n"
   ]
  },
  {
   "cell_type": "code",
   "execution_count": 29,
   "id": "3631ce61",
   "metadata": {},
   "outputs": [],
   "source": [
    "#for year\n",
    "df = df[(df['year'] >= 1900) & (df['year'] <= 2025)]\n",
    "\n"
   ]
  },
  {
   "cell_type": "code",
   "execution_count": 30,
   "id": "afc36a53",
   "metadata": {},
   "outputs": [
    {
     "data": {
      "text/plain": [
       "61       1910\n",
       "62       1910\n",
       "63       1920\n",
       "64       1920\n",
       "65       1920\n",
       "         ... \n",
       "23962    2020\n",
       "23963    2020\n",
       "23964    2020\n",
       "23965    2020\n",
       "23966    2020\n",
       "Name: decade, Length: 23303, dtype: Int64"
      ]
     },
     "execution_count": 30,
     "metadata": {},
     "output_type": "execute_result"
    }
   ],
   "source": [
    "#creating new column to make analysis much more easiear\n",
    "#Group accidents into 10-year periods for trend analysis.\n",
    "df['decade'] = (df['year'] // 10) * 10\n",
    "df['decade']\n"
   ]
  },
  {
   "cell_type": "code",
   "execution_count": 31,
   "id": "21e02a2f",
   "metadata": {},
   "outputs": [
    {
     "data": {
      "text/plain": [
       "61    1\n",
       "62    1\n",
       "63    0\n",
       "64    0\n",
       "65    0\n",
       "Name: fatal_accident, dtype: Int64"
      ]
     },
     "execution_count": 31,
     "metadata": {},
     "output_type": "execute_result"
    }
   ],
   "source": [
    "#basically we have created fatal accident colunm\n",
    "#out put would either be 1= fatal ,0=non fatal and NA=missing fatalities\n",
    "df['fatal_accident'] = (df['fatalities'] > 0).astype('Int64')\n",
    "df['fatal_accident'].head()\n"
   ]
  },
  {
   "cell_type": "code",
   "execution_count": 32,
   "id": "5700d1fb",
   "metadata": {},
   "outputs": [
    {
     "name": "stdout",
     "output_type": "stream",
     "text": [
      "         date  month  season\n",
      "61 1919-08-02      8  Summer\n",
      "62 1919-08-11      8  Summer\n",
      "63 1920-02-23      2  Winter\n",
      "64 1920-02-25      2  Winter\n",
      "65 1920-06-30      6  Summer\n",
      "66 1920-12-14     12  Winter\n",
      "67 1921-01-15      1  Winter\n",
      "68 1921-03-02      3  Spring\n",
      "69 1921-03-04      3  Spring\n",
      "70 1921-08-26      8  Summer\n"
     ]
    }
   ],
   "source": [
    "#creating a new column called seasons\n",
    "#basically the seasons of the accident\n",
    "# key lines used in the demo\n",
    "df['date'] = pd.to_datetime(df['date'], errors='coerce')\n",
    "df['month'] = df['date'].dt.month\n",
    "\n",
    "month_to_season = {\n",
    "    1: 'Winter', 2: 'Winter',\n",
    "    3: 'Spring', 4: 'Spring', 5: 'Spring',\n",
    "    6: 'Summer', 7: 'Summer', 8: 'Summer',\n",
    "    9: 'Fall', 10 : 'Fall', 11: 'Fall',\n",
    "    12: 'Winter'\n",
    "}\n",
    "\n",
    "df['season'] = df['month'].map(month_to_season).astype('category')\n",
    "print(df[['date', 'month', 'season']].head(10))\n",
    "                 "
   ]
  },
  {
   "cell_type": "code",
   "execution_count": 33,
   "id": "05ba9c97",
   "metadata": {},
   "outputs": [
    {
     "data": {
      "text/plain": [
       "Winter    5889\n",
       "Spring    5872\n",
       "Summer    5772\n",
       "Fall      5770\n",
       "Name: season, dtype: int64"
      ]
     },
     "execution_count": 33,
     "metadata": {},
     "output_type": "execute_result"
    }
   ],
   "source": [
    "#the output means winter had the most accidents\n",
    "df['season'].value_counts()\n"
   ]
  },
  {
   "cell_type": "code",
   "execution_count": 34,
   "id": "ceec7eee",
   "metadata": {},
   "outputs": [],
   "source": [
    "#we are grouping countries into regions (Africa, Europe, etc.) for geographic analysis.\n",
    "#lets creat a mappping dictionary\n",
    "# Example dictionary (you can add more countries later)\n",
    "country_to_region = {\n",
    "    # Africa\n",
    "    'Kenya': 'Africa', 'Nigeria': 'Africa', 'South Africa': 'Africa', 'Sudan': 'Africa',\n",
    "    \n",
    "    # Europe\n",
    "    'U.K.': 'Europe', 'France': 'Europe', 'Germany': 'Europe', 'Italy': 'Europe', 'Spain': 'Europe',\n",
    "    \n",
    "    # North America\n",
    "    'United States': 'North America', 'Canada': 'North America', 'Mexico': 'North America',\n",
    "    \n",
    "    # South America\n",
    "    'Brazil': 'South America', 'Argentina': 'South America', 'Chile': 'South America',\n",
    "    \n",
    "    # Asia\n",
    "    'China': 'Asia', 'India': 'Asia', 'Japan': 'Asia', 'Indonesia': 'Asia',\n",
    "    \n",
    "    # Oceania\n",
    "    'Australia': 'Oceania', 'New Zealand': 'Oceania',\n",
    "    \n",
    "    # Middle East\n",
    "    'Iran': 'Middle East', 'Iraq': 'Middle East', 'Saudi Arabia': 'Middle East'\n",
    "}\n"
   ]
  },
  {
   "cell_type": "code",
   "execution_count": 35,
   "id": "0e47585c",
   "metadata": {},
   "outputs": [
    {
     "name": "stdout",
     "output_type": "stream",
     "text": [
      "           country  region\n",
      "61           Italy  Europe\n",
      "62            U.K.  Europe\n",
      "63    South Africa  Africa\n",
      "64           Sudan  Africa\n",
      "65          Sweden   Other\n",
      "66            U.K.  Europe\n",
      "67            Cuba   Other\n",
      "68           India    Asia\n",
      "69           Italy  Europe\n",
      "70          France  Europe\n",
      "71         Belgium   Other\n",
      "72         Belgium   Other\n",
      "73          France  Europe\n",
      "74          France  Europe\n",
      "75           China    Asia\n",
      "76          France  Europe\n",
      "77  Atlantic Ocean   Other\n",
      "78          France  Europe\n",
      "79          France  Europe\n",
      "80          France  Europe\n"
     ]
    }
   ],
   "source": [
    "#will creat a region column\n",
    "df['region'] = df['country'].map(country_to_region).fillna('Other')\n",
    "#lets review our region column which we created above\n",
    "print(df[['country', 'region']].head(20))\n",
    "\n",
    "\n",
    "\n"
   ]
  },
  {
   "cell_type": "code",
   "execution_count": 36,
   "id": "ab045f42",
   "metadata": {},
   "outputs": [],
   "source": [
    "#finished creating the new columns"
   ]
  },
  {
   "cell_type": "code",
   "execution_count": 37,
   "id": "ead202fb",
   "metadata": {},
   "outputs": [
    {
     "name": "stdout",
     "output_type": "stream",
     "text": [
      "         fatalities          year        decade  fatal_accident         month\n",
      "count  19441.000000  23303.000000  23303.000000    19441.000000  23303.000000\n",
      "mean       6.207448   1973.992104   1969.564863        0.460470      6.507875\n",
      "std       18.787016     25.408126     25.434840        0.498448      3.471553\n",
      "min        0.000000   1919.000000   1910.000000        0.000000      1.000000\n",
      "25%        0.000000   1948.000000   1940.000000        0.000000      3.000000\n",
      "50%        0.000000   1972.000000   1970.000000        0.000000      7.000000\n",
      "75%        5.000000   1995.000000   1990.000000        1.000000      9.000000\n",
      "max      520.000000   2023.000000   2020.000000        1.000000     12.000000\n"
     ]
    }
   ],
   "source": [
    "#summary statics of our dataframe \n",
    "print(df.describe())\n"
   ]
  },
  {
   "cell_type": "code",
   "execution_count": 38,
   "id": "e9c30dd0",
   "metadata": {},
   "outputs": [
    {
     "name": "stdout",
     "output_type": "stream",
     "text": [
      "                        type registration operator location country    cat  \\\n",
      "count                  23303        23303    23303    23303   23303  23303   \n",
      "unique                  3169        21475     5906    14438     232     11   \n",
      "top     Douglas C-47A (DC-3)      Unknown    USAAF  Unknown     Usa     A1   \n",
      "freq                    1899         1393     2590      780    4354  17031   \n",
      "\n",
      "       region  \n",
      "count   23303  \n",
      "unique      8  \n",
      "top     Other  \n",
      "freq    15739  \n"
     ]
    }
   ],
   "source": [
    "# Overview of non-numeric columns\n",
    "print(df.describe(include='object'))\n"
   ]
  },
  {
   "cell_type": "code",
   "execution_count": 39,
   "id": "992c7777",
   "metadata": {},
   "outputs": [
    {
     "name": "stdout",
     "output_type": "stream",
     "text": [
      "Winter    5889\n",
      "Spring    5872\n",
      "Summer    5772\n",
      "Fall      5770\n",
      "Name: season, dtype: int64\n",
      "1910       2\n",
      "1920      68\n",
      "1930     369\n",
      "1940    5658\n",
      "1950    2348\n",
      "1960    2563\n",
      "1970    2753\n",
      "1980    2210\n",
      "1990    2469\n",
      "2000    2161\n",
      "2010    2094\n",
      "2020     608\n",
      "Name: decade, dtype: Int64\n",
      "Other            15739\n",
      "Europe            2478\n",
      "Asia              1894\n",
      "North America     1152\n",
      "South America      936\n",
      "Africa             471\n",
      "Oceania            362\n",
      "Middle East        271\n",
      "Name: region, dtype: int64\n",
      "0    10489\n",
      "1     8952\n",
      "Name: fatal_accident, dtype: Int64\n"
     ]
    }
   ],
   "source": [
    "#we are know doing a value count for the new columns we created\n",
    "# How many accidents by season\n",
    "print(df['season'].value_counts())\n",
    "\n",
    "# How many by decade\n",
    "print(df['decade'].value_counts().sort_index())\n",
    "\n",
    "# How many by region\n",
    "print(df['region'].value_counts())\n",
    "\n",
    "# Fatal vs non-fatal accidents\n",
    "print(df['fatal_accident'].value_counts())\n"
   ]
  },
  {
   "cell_type": "code",
   "execution_count": 40,
   "id": "d11421f4",
   "metadata": {},
   "outputs": [],
   "source": [
    "#After a statics summarry of the data set we are going to group and aggregate\n",
    "\n",
    "#Basically we are going to see the ne wcolumns we created expalin the data"
   ]
  },
  {
   "cell_type": "code",
   "execution_count": 41,
   "id": "5219c7f3",
   "metadata": {},
   "outputs": [
    {
     "name": "stdout",
     "output_type": "stream",
     "text": [
      "1910       2\n",
      "1920      68\n",
      "1930     369\n",
      "1940    5658\n",
      "1950    2348\n",
      "1960    2563\n",
      "1970    2753\n",
      "1980    2210\n",
      "1990    2469\n",
      "2000    2161\n",
      "2010    2094\n",
      "2020     608\n",
      "Name: decade, dtype: Int64\n",
      "season\n",
      "Fall      31773\n",
      "Spring    27206\n",
      "Summer    30779\n",
      "Winter    30921\n",
      "Name: fatalities, dtype: Int64\n",
      "Other            15739\n",
      "Europe            2478\n",
      "Asia              1894\n",
      "North America     1152\n",
      "South America      936\n",
      "Africa             471\n",
      "Oceania            362\n",
      "Middle East        271\n",
      "Name: region, dtype: int64\n"
     ]
    }
   ],
   "source": [
    "# accidents per decade\n",
    "print(df['decade'].value_counts().sort_index())\n",
    "\n",
    "# fatalities by season\n",
    "print(df.groupby('season')['fatalities'].sum())\n",
    "\n",
    "# accidents per region\n",
    "print(df['region'].value_counts())\n"
   ]
  },
  {
   "cell_type": "code",
   "execution_count": 42,
   "id": "985aeb6c",
   "metadata": {},
   "outputs": [],
   "source": [
    "#save the cleaned data\n",
    "df.to_csv(\"aviation_cleaned_data.csv\",index=False)\n"
   ]
  },
  {
   "cell_type": "code",
   "execution_count": null,
   "id": "586b8a9e",
   "metadata": {},
   "outputs": [],
   "source": [
    "df=pd.read_csv(\"aviation_cleaned_data.csv\")"
   ]
  },
  {
   "cell_type": "code",
   "execution_count": 48,
   "id": "ec55e565",
   "metadata": {},
   "outputs": [
    {
     "name": "stdout",
     "output_type": "stream",
     "text": [
      "<class 'pandas.core.frame.DataFrame'>\n",
      "Int64Index: 23303 entries, 61 to 23966\n",
      "Data columns (total 15 columns):\n",
      " #   Column              Non-Null Count  Dtype         \n",
      "---  ------              --------------  -----         \n",
      " 0   date                23303 non-null  datetime64[ns]\n",
      " 1   type                23303 non-null  object        \n",
      " 2   registration        23303 non-null  object        \n",
      " 3   operator            23303 non-null  object        \n",
      " 4   fatalities          19441 non-null  Int64         \n",
      " 5   location            23303 non-null  object        \n",
      " 6   country             23303 non-null  object        \n",
      " 7   cat                 23303 non-null  object        \n",
      " 8   year                23303 non-null  Int64         \n",
      " 9   fatalities_missing  23303 non-null  bool          \n",
      " 10  decade              23303 non-null  Int64         \n",
      " 11  fatal_accident      19441 non-null  Int64         \n",
      " 12  month               23303 non-null  int64         \n",
      " 13  season              23303 non-null  category      \n",
      " 14  region              23303 non-null  object        \n",
      "dtypes: Int64(4), bool(1), category(1), datetime64[ns](1), int64(1), object(7)\n",
      "memory usage: 2.6+ MB\n"
     ]
    }
   ],
   "source": [
    "df.info()"
   ]
  },
  {
   "cell_type": "code",
   "execution_count": null,
   "id": "5b181232",
   "metadata": {},
   "outputs": [],
   "source": [
    "#After seeing how the new columns relate with the database we can visualize our analysis"
   ]
  },
  {
   "cell_type": "code",
   "execution_count": null,
   "id": "a40297fe",
   "metadata": {},
   "outputs": [
    {
     "data": {
      "image/png": "[encoded data removed]",
      "text/plain": [
       "<Figure size 432x288 with 1 Axes>"
      ]
     },
     "metadata": {
      "needs_background": "light"
     },
     "output_type": "display_data"
    }
   ],
   "source": [
    "#A visual of a bar plot indicating number of Accidents per season\n",
    "import matplotlib.pyplot as plt\n",
    "\n",
    "df['season'].value_counts().plot(kind='bar', color='skyblue', edgecolor='black')\n",
    "plt.title(\"Number of Accidents by Season\")\n",
    "plt.xlabel(\"Season\")\n",
    "plt.ylabel(\"Accident Count\")\n",
    "plt.show()\n",
    "\n"
   ]
  },
  {
   "cell_type": "code",
   "execution_count": null,
   "id": "2d0eb994",
   "metadata": {},
   "outputs": [
    {
     "data": {
      "image/png": "[encoded data removed]",
      "text/plain": [
       "<Figure size 432x288 with 1 Axes>"
      ]
     },
     "metadata": {
      "needs_background": "light"
     },
     "output_type": "display_data"
    }
   ],
   "source": [
    "# line plot of accidents per decades as we created the new column dcalled decade\n",
    "df['decade'].value_counts().sort_index().plot(kind='line', marker='o')\n",
    "plt.title(\"Accidents Trend Over Decades\")\n",
    "plt.xlabel(\"Decade\")\n",
    "plt.ylabel(\"Number of Accidents\")\n",
    "plt.grid(True)\n",
    "plt.show()\n"
   ]
  },
  {
   "cell_type": "code",
   "execution_count": null,
   "id": "9b8401b1",
   "metadata": {},
   "outputs": [],
   "source": [
    "#we can see  accidents increased during 1940s–1980s (WWII, more flying) and dropped later."
   ]
  },
  {
   "cell_type": "code",
   "execution_count": null,
   "id": "cf1021be",
   "metadata": {},
   "outputs": [
    {
     "data": {
      "image/png": "[encoded data removed]",
      "text/plain": [
       "<Figure size 432x288 with 1 Axes>"
      ]
     },
     "metadata": {
      "needs_background": "light"
     },
     "output_type": "display_data"
    }
   ],
   "source": [
    "#A visual on fatalities distribution\n",
    "df['fatalities'].hist(bins=50, color='orange', edgecolor='black')\n",
    "plt.title(\"Distribution of Fatalities per Accident\")\n",
    "plt.xlabel(\"Fatalities\")\n",
    "plt.ylabel(\"Frequency\")\n",
    "plt.show()\n"
   ]
  },
  {
   "cell_type": "code",
   "execution_count": null,
   "id": "d9cc5183",
   "metadata": {},
   "outputs": [],
   "source": [
    "#we can see that Most accidents have 0–5 fatalities, but the long right tail shows rare disasters (100+ fatalities)."
   ]
  },
  {
   "cell_type": "code",
   "execution_count": null,
   "id": "530cf005",
   "metadata": {},
   "outputs": [
    {
     "data": {
      "image/png": "[encoded data removed]",
      "text/plain": [
       "<Figure size 432x288 with 1 Axes>"
      ]
     },
     "metadata": {
      "needs_background": "light"
     },
     "output_type": "display_data"
    }
   ],
   "source": [
    "#A Visual of Barplot showing fatilities by region\n",
    "df.groupby('region')['fatalities'].sum().plot(kind='bar', color='purple', edgecolor='black')\n",
    "plt.title(\"Total Fatalities by Region\")\n",
    "plt.xlabel(\"Region\")\n",
    "plt.ylabel(\"Total Fatalities\")\n",
    "plt.show()\n"
   ]
  },
  {
   "cell_type": "code",
   "execution_count": null,
   "id": "69fb0cbf",
   "metadata": {},
   "outputs": [],
   "source": [
    "#we can see oceania region has the less fatalities"
   ]
  }
 ],
 "metadata": {
  "kernelspec": {
   "display_name": "learn-env",
   "language": "python",
   "name": "python3"
  },
  "language_info": {
   "codemirror_mode": {
    "name": "ipython",
    "version": 3
   },
   "file_extension": ".py",
   "mimetype": "text/x-python",
   "name": "python",
   "nbconvert_exporter": "python",
   "pygments_lexer": "ipython3",
   "version": "3.8.5"
  }
 },
 "nbformat": 4,
 "nbformat_minor": 5
}
